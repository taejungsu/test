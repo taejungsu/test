{
  "cells": [
    {
      "cell_type": "markdown",
      "metadata": {
        "id": "view-in-github",
        "colab_type": "text"
      },
      "source": [
        "<a href=\"https://colab.research.google.com/github/taejungsu/test/blob/master/%5B%ED%94%84%EB%A1%9C%EA%B7%B8%EB%9E%98%EB%B0%8D_%EA%B8%B0%EC%B4%882%5D_%EB%8D%B0%EC%9D%B4%ED%84%B0%EC%9D%98_%EC%9D%B4%ED%95%B4_%ED%95%99%EC%83%9D%EC%9A%A9_ipynb.ipynb\" target=\"_parent\"><img src=\"https://colab.research.google.com/assets/colab-badge.svg\" alt=\"Open In Colab\"/></a>"
      ]
    },
    {
      "cell_type": "markdown",
      "metadata": {
        "id": "XjkeDJs363d1"
      },
      "source": [
        "# 제어문"
      ]
    },
    {
      "cell_type": "markdown",
      "metadata": {
        "id": "ZZD-5CGY63d3"
      },
      "source": [
        "## 조건에 따라 분기하는 if 문"
      ]
    },
    {
      "cell_type": "markdown",
      "metadata": {
        "id": "Ii3xL9sd63d4"
      },
      "source": [
        "### 단일 조건에 따른 분기(if)"
      ]
    },
    {
      "cell_type": "code",
      "execution_count": null,
      "metadata": {
        "code_folding": [],
        "scrolled": true,
        "id": "xQ2EDm3K63d6",
        "outputId": "580e7384-7694-403f-baa0-32bc8f587a17",
        "colab": {
          "base_uri": "https://localhost:8080/"
        }
      },
      "outputs": [
        {
          "output_type": "stream",
          "name": "stdout",
          "text": [
            "Pass\n"
          ]
        }
      ],
      "source": [
        "x = 90\n",
        "if x >= 90:\n",
        "    print(\"Pass\")"
      ]
    },
    {
      "cell_type": "markdown",
      "metadata": {
        "id": "gcUh7d7663d8"
      },
      "source": [
        "### 단일 조건 및 그 외 조건에 따른 분기(if ~ else)"
      ]
    },
    {
      "cell_type": "code",
      "execution_count": null,
      "metadata": {
        "id": "QEKOfBMa63d9",
        "colab": {
          "base_uri": "https://localhost:8080/"
        },
        "outputId": "05410074-c787-4f91-b4fb-6d1183c4cfbc"
      },
      "outputs": [
        {
          "output_type": "stream",
          "name": "stdout",
          "text": [
            "Pass\n"
          ]
        }
      ],
      "source": [
        "x = 95\n",
        "if x >= 90:\n",
        "    print(\"Pass\")\n",
        "else:\n",
        "    print(\"Fail\")"
      ]
    },
    {
      "cell_type": "markdown",
      "metadata": {
        "id": "2g3g0mjj63d-"
      },
      "source": [
        "### 여러 조건에 따른 분기(if ~ elif ~ else)\n",
        "### 실습1: x = 85로 설정하고, 90 이상이면 Very good, 80~89면 Good, 80 미만이면 Bad가 출력되도록 만들기"
      ]
    },
    {
      "cell_type": "code",
      "execution_count": null,
      "metadata": {
        "id": "gDKaoC5A63d_",
        "colab": {
          "base_uri": "https://localhost:8080/"
        },
        "outputId": "b10a1b30-bfb9-4726-fb2d-391487d8c7eb"
      },
      "outputs": [
        {
          "output_type": "stream",
          "name": "stdout",
          "text": [
            "good\n"
          ]
        }
      ],
      "source": [
        "x=85\n",
        "if x>=90:\n",
        "  print(\"Very good\")\n",
        "elif 80<=x<90:\n",
        "  print(\"good\")\n",
        "else:\n",
        "  print(\"Bad\")"
      ]
    },
    {
      "cell_type": "markdown",
      "metadata": {
        "id": "XM7TbtUS63eA"
      },
      "source": [
        "### 중첩 조건에 따른 분기"
      ]
    },
    {
      "cell_type": "code",
      "execution_count": null,
      "metadata": {
        "id": "srUZzNkA63eB",
        "colab": {
          "base_uri": "https://localhost:8080/"
        },
        "outputId": "b44c8eb9-4a49-4e39-a9da-9f23643693db"
      },
      "outputs": [
        {
          "output_type": "stream",
          "name": "stdout",
          "text": [
            "Perfect\n"
          ]
        }
      ],
      "source": [
        "x = 100\n",
        "if x >= 90:\n",
        "    if x==100 :\n",
        "        print(\"Perfect\")\n",
        "    else:\n",
        "        print(\"Very Good\")\n",
        "elif (x >= 80) and (x < 90):\n",
        "    print(\"Good\")\n",
        "else:\n",
        "    print(\"Bad\")"
      ]
    },
    {
      "cell_type": "markdown",
      "metadata": {
        "id": "Gi7_eBBz63eB"
      },
      "source": [
        "## 5.2 지정된 범위만큼 반복하는 for 문"
      ]
    },
    {
      "cell_type": "markdown",
      "metadata": {
        "id": "KFExQMyc63eB"
      },
      "source": [
        "### 반복문의 필요성"
      ]
    },
    {
      "cell_type": "code",
      "execution_count": null,
      "metadata": {
        "id": "Ygzh3zY563eC",
        "colab": {
          "base_uri": "https://localhost:8080/"
        },
        "outputId": "ffce7c87-19d4-4bc3-9c68-60810d785bef"
      },
      "outputs": [
        {
          "output_type": "stream",
          "name": "stdout",
          "text": [
            "0\n",
            "1\n",
            "2\n",
            "3\n",
            "4\n",
            "5\n"
          ]
        }
      ],
      "source": [
        "a = 0 # 변수 a를 0으로 초기화\n",
        "print(a) # 변수 a 출력\n",
        "\n",
        "a = a + 1 # 변수 a에 1을 더한 후, 다시 a에 대입\n",
        "print(a)  # 변수 a 출력\n",
        "\n",
        "a = a + 1 # 같은 코드 반복\n",
        "print(a)\n",
        "\n",
        "a = a + 1 # 같은 코드 반복\n",
        "print(a)\n",
        "\n",
        "a = a + 1 # 같은 코드 반복\n",
        "print(a)\n",
        "\n",
        "a = a + 1 # 같은 코드 반복\n",
        "print(a)"
      ]
    },
    {
      "cell_type": "markdown",
      "metadata": {
        "id": "6zZKhxFz63eC"
      },
      "source": [
        "### for 문의 구조\n",
        "\n"
      ]
    },
    {
      "cell_type": "markdown",
      "metadata": {
        "id": "UKGauTz-63eC"
      },
      "source": [
        "### 반복 범위 지정"
      ]
    },
    {
      "cell_type": "markdown",
      "metadata": {
        "id": "sL95NY6M63eC"
      },
      "source": [
        "#### 리스트 이용"
      ]
    },
    {
      "cell_type": "code",
      "execution_count": null,
      "metadata": {
        "id": "NjAJktde63eC",
        "colab": {
          "base_uri": "https://localhost:8080/"
        },
        "outputId": "ab5c7db8-7cdf-4b74-c8a6-acb4be11b618"
      },
      "outputs": [
        {
          "output_type": "stream",
          "name": "stdout",
          "text": [
            "0\n",
            "1\n",
            "2\n",
            "3\n",
            "4\n",
            "5\n"
          ]
        }
      ],
      "source": [
        "for a in [0, 1, 2, 3, 4, 5]:\n",
        "    print(a)"
      ]
    },
    {
      "cell_type": "code",
      "execution_count": null,
      "metadata": {
        "id": "pluEM9zd63eD",
        "colab": {
          "base_uri": "https://localhost:8080/"
        },
        "outputId": "2d546d2c-ec93-47c7-bc7e-9991e6a9cac3"
      },
      "outputs": [
        {
          "output_type": "stream",
          "name": "stdout",
          "text": [
            "James\n",
            "Robert\n",
            "Lisa\n",
            "Mary\n"
          ]
        }
      ],
      "source": [
        "myFriends = ['James', 'Robert', 'Lisa', 'Mary']  # 리스트를 변수에 할당\n",
        "for myFriend in myFriends:\n",
        "    print(myFriend)"
      ]
    },
    {
      "cell_type": "markdown",
      "metadata": {
        "id": "ZhNT-Qce63eD"
      },
      "source": [
        "#### range() 함수 이용"
      ]
    },
    {
      "cell_type": "code",
      "execution_count": null,
      "metadata": {
        "id": "zOIRY23u63eD",
        "colab": {
          "base_uri": "https://localhost:8080/"
        },
        "outputId": "b5418232-29e9-4314-e2bf-da6c56fdfc35"
      },
      "outputs": [
        {
          "output_type": "stream",
          "name": "stdout",
          "text": [
            "range(0, 10)\n"
          ]
        }
      ],
      "source": [
        "print(range(0, 10, 1))\n",
        "\n",
        "# 제대로 출력되지 않음."
      ]
    },
    {
      "cell_type": "code",
      "execution_count": null,
      "metadata": {
        "id": "v5yqd5mD63eD",
        "colab": {
          "base_uri": "https://localhost:8080/"
        },
        "outputId": "7d40c107-f9ce-4bf5-d49f-1c8d7b367104"
      },
      "outputs": [
        {
          "output_type": "stream",
          "name": "stdout",
          "text": [
            "[0, 1, 2, 3, 4, 5, 6, 7, 8, 9]\n"
          ]
        }
      ],
      "source": [
        "print(list(range(0, 10, 1)))"
      ]
    },
    {
      "cell_type": "code",
      "execution_count": null,
      "metadata": {
        "id": "_JydxnML63eO",
        "colab": {
          "base_uri": "https://localhost:8080/"
        },
        "outputId": "0e49bc98-8955-4eea-8985-3863232df8fe"
      },
      "outputs": [
        {
          "output_type": "stream",
          "name": "stdout",
          "text": [
            "0\n",
            "1\n",
            "2\n",
            "3\n",
            "4\n",
            "5\n"
          ]
        }
      ],
      "source": [
        "for a in range(0, 6, 1):\n",
        "    print(a)"
      ]
    },
    {
      "cell_type": "code",
      "execution_count": null,
      "metadata": {
        "id": "2bRY8Svx63eP",
        "colab": {
          "base_uri": "https://localhost:8080/"
        },
        "outputId": "9f6c7c93-750e-4b00-e796-c10bf3dc8c30"
      },
      "outputs": [
        {
          "output_type": "stream",
          "name": "stdout",
          "text": [
            "0\n",
            "2\n",
            "4\n"
          ]
        }
      ],
      "source": [
        "for a in range(0, 6, 2):\n",
        "    print(a)"
      ]
    },
    {
      "cell_type": "code",
      "execution_count": null,
      "metadata": {
        "id": "gD4YvTrP63eQ",
        "colab": {
          "base_uri": "https://localhost:8080/"
        },
        "outputId": "42e65167-f5be-46e1-cf8c-3e25e8abfd03"
      },
      "outputs": [
        {
          "output_type": "stream",
          "name": "stdout",
          "text": [
            "[0, 1, 2, 3, 4, 5, 6, 7, 8, 9]\n",
            "[0, 1, 2, 3, 4, 5, 6, 7, 8, 9]\n",
            "[0, 1, 2, 3, 4, 5, 6, 7, 8, 9]\n"
          ]
        }
      ],
      "source": [
        "print(list(range(0, 10, 1)))\n",
        "print(list(range(0, 10)))\n",
        "print(list(range(10)))"
      ]
    },
    {
      "cell_type": "code",
      "execution_count": null,
      "metadata": {
        "id": "0zAkAFsp63eQ",
        "colab": {
          "base_uri": "https://localhost:8080/"
        },
        "outputId": "f39fc94e-970f-4ed7-d2d4-806537912292"
      },
      "outputs": [
        {
          "output_type": "stream",
          "name": "stdout",
          "text": [
            "[0, 5, 10, 15]\n",
            "[-10, -8, -6, -4, -2]\n",
            "[3, 0, -3, -6, -9]\n",
            "[]\n"
          ]
        }
      ],
      "source": [
        "print(list(range(0, 20, 5)))    # Line 1\n",
        "print(list(range(-10, 0, 2)))   # Line 2\n",
        "print(list(range(3, -10, -3)))  # Line 3\n",
        "print(list(range(0, -5, 1)))    # Line 4"
      ]
    },
    {
      "cell_type": "markdown",
      "source": [
        "### 실습2: 5부터 -5까지 1씩 감소하는 리스트 생성하기"
      ],
      "metadata": {
        "id": "U4XGy-MZ_uVO"
      }
    },
    {
      "cell_type": "code",
      "source": [
        "print(list(range(5, -6, -1)))"
      ],
      "metadata": {
        "colab": {
          "base_uri": "https://localhost:8080/"
        },
        "id": "xt3ui0BW_77I",
        "outputId": "538d2fe6-36ff-4f1a-851d-ffd75f3942ab"
      },
      "execution_count": null,
      "outputs": [
        {
          "output_type": "stream",
          "name": "stdout",
          "text": [
            "[5, 4, 3, 2, 1, 0, -1, -2, -3, -4, -5]\n"
          ]
        }
      ]
    },
    {
      "cell_type": "markdown",
      "metadata": {
        "id": "Mh70BNLv63eR"
      },
      "source": [
        "### 중첩 for 문"
      ]
    },
    {
      "cell_type": "code",
      "execution_count": null,
      "metadata": {
        "id": "utI2GsSr63eR",
        "colab": {
          "base_uri": "https://localhost:8080/"
        },
        "outputId": "52a18fa3-d5a6-4f48-b092-deafe491d3b0"
      },
      "outputs": [
        {
          "output_type": "stream",
          "name": "stdout",
          "text": [
            "x y\n",
            "x1 y1\n",
            "x1 y2\n",
            "x2 y1\n",
            "x2 y2\n"
          ]
        }
      ],
      "source": [
        "x_list = ['x1', 'x2']\n",
        "y_list = ['y1', 'y2']\n",
        "\n",
        "print(\"x y\")\n",
        "for x in x_list:\n",
        "    for y in y_list:\n",
        "        print(x,y)"
      ]
    },
    {
      "cell_type": "markdown",
      "metadata": {
        "id": "oVVZTsN_63eR"
      },
      "source": [
        "### 여러 개의 리스트 다루기"
      ]
    },
    {
      "cell_type": "code",
      "execution_count": null,
      "metadata": {
        "id": "JswmY5ny63eS"
      },
      "outputs": [],
      "source": [
        "names = ['James', 'Robert', 'Lisa', 'Mary'] \n",
        "scores = [95, 96, 97, 94]"
      ]
    },
    {
      "cell_type": "code",
      "execution_count": null,
      "metadata": {
        "id": "z1sXJx5E63eS",
        "colab": {
          "base_uri": "https://localhost:8080/"
        },
        "outputId": "c6bf4449-3cea-417c-a610-da3c8aec5a7e"
      },
      "outputs": [
        {
          "output_type": "stream",
          "name": "stdout",
          "text": [
            "James 95\n",
            "Robert 96\n",
            "Lisa 97\n",
            "Mary 94\n"
          ]
        }
      ],
      "source": [
        "for k in range(len(names)):\n",
        "    print(names[k], scores[k])"
      ]
    },
    {
      "cell_type": "code",
      "execution_count": null,
      "metadata": {
        "id": "Id5iiMkX63eS",
        "colab": {
          "base_uri": "https://localhost:8080/"
        },
        "outputId": "1b67a2ab-ff68-467f-85ad-2e6554a4401a"
      },
      "outputs": [
        {
          "output_type": "stream",
          "name": "stdout",
          "text": [
            "James 95\n",
            "Robert 96\n",
            "Lisa 97\n",
            "Mary 94\n"
          ]
        }
      ],
      "source": [
        "# zip() 함수 사용\n",
        "\n",
        "for name, score in zip(names, scores):\n",
        "    print(name, score)"
      ]
    },
    {
      "cell_type": "markdown",
      "metadata": {
        "id": "lOdFfeu763eS"
      },
      "source": [
        "## 5.3 조건에 따라 반복하는 while 문"
      ]
    },
    {
      "cell_type": "markdown",
      "metadata": {
        "id": "eyo2XgbR63eT"
      },
      "source": [
        "### while 문의 구조"
      ]
    },
    {
      "cell_type": "code",
      "execution_count": null,
      "metadata": {
        "id": "7VGRXM7O63eT",
        "colab": {
          "base_uri": "https://localhost:8080/"
        },
        "outputId": "eaf1b0d4-5b97-4ef0-f2ad-e6e354f4a957"
      },
      "outputs": [
        {
          "output_type": "stream",
          "name": "stdout",
          "text": [
            "i sum\n",
            "1 1\n",
            "2 3\n",
            "3 6\n",
            "4 10\n",
            "5 15\n",
            "6 21\n"
          ]
        }
      ],
      "source": [
        "i = 0     # 초기화\n",
        "sum = 0   # 초기화\n",
        "\n",
        "print(\"i sum\")\n",
        "while (sum < 20):  # 조건 검사\n",
        "    i = i + 1      # i를 1씩 증가\n",
        "    sum = sum + i  # 이전의 sum과 현재 i를 더해서 sum을 갱신\n",
        "    print(i, sum)  # i와 sum을 출력"
      ]
    },
    {
      "cell_type": "markdown",
      "metadata": {
        "id": "AdrGcRdB63eT"
      },
      "source": [
        "### 무한 반복 while 문"
      ]
    },
    {
      "cell_type": "markdown",
      "metadata": {
        "id": "pjykgXIy63eT"
      },
      "source": [
        "## 5.4 반복문을 제어하는 break와 continue"
      ]
    },
    {
      "cell_type": "markdown",
      "metadata": {
        "id": "gBkWqhPa63eT"
      },
      "source": [
        "### 반복문을 빠져나오는 break"
      ]
    },
    {
      "cell_type": "code",
      "execution_count": null,
      "metadata": {
        "id": "y7-vkEqN63eU",
        "colab": {
          "base_uri": "https://localhost:8080/"
        },
        "outputId": "61e3aac0-fa27-4e2c-b535-5be5e3a86021"
      },
      "outputs": [
        {
          "output_type": "stream",
          "name": "stdout",
          "text": [
            "1\n",
            "2\n",
            "3\n"
          ]
        }
      ],
      "source": [
        "k=0\n",
        "while True: \n",
        "    k = k + 1  # k는 1씩 증가\n",
        "    \n",
        "    if(k > 3): # k가 3보다 크면 \n",
        "        break  # break로 while 문을 빠져나옴\n",
        "        \n",
        "    print(k)   # k 출력"
      ]
    },
    {
      "cell_type": "markdown",
      "metadata": {
        "id": "1ZzFmNFi63eU"
      },
      "source": [
        "### 실습3: for문에 range(10) 함수를 사용하여 if문과 break로 0~ 5를 출력하기"
      ]
    },
    {
      "cell_type": "code",
      "execution_count": null,
      "metadata": {
        "id": "pLhTCinr63eU",
        "colab": {
          "base_uri": "https://localhost:8080/"
        },
        "outputId": "ae9ced8e-38c1-4747-ca7a-0247ebde616d"
      },
      "outputs": [
        {
          "output_type": "stream",
          "name": "stdout",
          "text": [
            "0\n",
            "1\n",
            "2\n",
            "3\n",
            "4\n",
            "5\n"
          ]
        }
      ],
      "source": [
        "for k in range(10):\n",
        "    if(k >5):\n",
        "        break\n",
        "        \n",
        "    print(k)"
      ]
    },
    {
      "cell_type": "markdown",
      "metadata": {
        "id": "mATo7Dbl63eU"
      },
      "source": [
        "### 다음 반복을 실행하는 continue"
      ]
    },
    {
      "cell_type": "code",
      "execution_count": null,
      "metadata": {
        "scrolled": true,
        "id": "blyS_K2163eU",
        "colab": {
          "base_uri": "https://localhost:8080/"
        },
        "outputId": "87d8f582-2409-404a-9ca1-c6880ff97a08"
      },
      "outputs": [
        {
          "output_type": "stream",
          "name": "stdout",
          "text": [
            "0\n",
            "1\n",
            "3\n",
            "4\n"
          ]
        }
      ],
      "source": [
        "for k in range(5):\n",
        "    if(k == 2):\n",
        "        continue\n",
        "        \n",
        "    print(k)\n",
        "\n",
        "# continue가 실행됨으로써 반복문의 처음으로 돌아가서 다음 반복을 진행하므로 2는 제외"
      ]
    },
    {
      "cell_type": "code",
      "execution_count": null,
      "metadata": {
        "id": "wutA87vQ63eV",
        "colab": {
          "base_uri": "https://localhost:8080/"
        },
        "outputId": "2691def4-fcfe-4364-b81b-bf33c4d8bb24"
      },
      "outputs": [
        {
          "output_type": "stream",
          "name": "stdout",
          "text": [
            "1\n",
            "continue next\n",
            "3\n",
            "4\n"
          ]
        }
      ],
      "source": [
        "k = 0\n",
        "while True:\n",
        "    k = k + 1\n",
        "    \n",
        "    if(k == 2):\n",
        "        print(\"continue next\")\n",
        "        continue\n",
        "    if(k > 4):\n",
        "        break\n",
        "        \n",
        "    print(k)"
      ]
    },
    {
      "cell_type": "markdown",
      "source": [
        "실습4: 앞의 코드를 응용하여 1~10까지 간단한 369 게임 구현 (3,6,9에서 짝!)"
      ],
      "metadata": {
        "id": "Tuza1oe1K6DF"
      }
    },
    {
      "cell_type": "code",
      "source": [
        "k = 0\n",
        "while True:\n",
        "    k = k + 1\n",
        "    \n",
        "    if(k == 3) or k==6 or k==9:\n",
        "      print(\"짝!\")\n",
        "      continue\n",
        "    if(k > 10):\n",
        "        break\n",
        "        \n",
        "    print(k)"
      ],
      "metadata": {
        "colab": {
          "base_uri": "https://localhost:8080/"
        },
        "id": "yQnrzlLHKMqD",
        "outputId": "87d5ef6e-ed54-4a4e-b898-8960156a7240"
      },
      "execution_count": null,
      "outputs": [
        {
          "output_type": "stream",
          "name": "stdout",
          "text": [
            "1\n",
            "2\n",
            "짝!\n",
            "4\n",
            "5\n",
            "짝!\n",
            "7\n",
            "8\n",
            "짝!\n",
            "10\n"
          ]
        }
      ]
    },
    {
      "cell_type": "markdown",
      "metadata": {
        "id": "KKS_amuu63eV"
      },
      "source": [
        "## 5.5 간단하게 반복하는 한 줄 for 문"
      ]
    },
    {
      "cell_type": "markdown",
      "metadata": {
        "id": "HPtI3lQE63eV"
      },
      "source": [
        "### 리스트 컴프리헨션의 기본 구조"
      ]
    },
    {
      "cell_type": "code",
      "execution_count": null,
      "metadata": {
        "id": "ws04Cx1T63eV",
        "colab": {
          "base_uri": "https://localhost:8080/"
        },
        "outputId": "457a318c-231c-45ea-c902-99030646a11f"
      },
      "outputs": [
        {
          "output_type": "stream",
          "name": "stdout",
          "text": [
            "[1, 4, 9, 16, 25]\n"
          ]
        }
      ],
      "source": [
        "numbers = [1,2,3,4,5]\n",
        "square = []\n",
        "\n",
        "for i in numbers:\n",
        "    square.append(i**2)\n",
        "    \n",
        "print(square)"
      ]
    },
    {
      "cell_type": "code",
      "execution_count": null,
      "metadata": {
        "id": "FMINX5Xc63eW",
        "colab": {
          "base_uri": "https://localhost:8080/"
        },
        "outputId": "8616010e-7b1a-4a80-c7a8-76450da4792a"
      },
      "outputs": [
        {
          "output_type": "stream",
          "name": "stdout",
          "text": [
            "[1, 4, 9, 16, 25]\n"
          ]
        }
      ],
      "source": [
        "numbers = [1,2,3,4,5]\n",
        "square = [i**2 for i in numbers]\n",
        "print(square)"
      ]
    },
    {
      "cell_type": "markdown",
      "metadata": {
        "id": "UTOd6rGq63eW"
      },
      "source": [
        "### 조건문을 포함한 리스트 컴프리헨션"
      ]
    },
    {
      "cell_type": "code",
      "execution_count": null,
      "metadata": {
        "id": "HYm1GmdK63eW",
        "colab": {
          "base_uri": "https://localhost:8080/"
        },
        "outputId": "82fc99d8-4d80-4a26-95d5-3a35094ffc66"
      },
      "outputs": [
        {
          "output_type": "stream",
          "name": "stdout",
          "text": [
            "[9, 16, 25]\n"
          ]
        }
      ],
      "source": [
        "numbers = [1,2,3,4,5]\n",
        "square = []\n",
        "\n",
        "for i in numbers:\n",
        "    if i >= 3:\n",
        "        square.append(i**2)\n",
        "    \n",
        "print(square)"
      ]
    },
    {
      "cell_type": "markdown",
      "source": [
        "### 실습5: 앞의 코드를 응용하여 square 변수 안에 제곱을 넣고 if문을 사용하여 3 이상만 적용하기"
      ],
      "metadata": {
        "id": "J-07SaSlPgJB"
      }
    },
    {
      "cell_type": "code",
      "execution_count": null,
      "metadata": {
        "id": "N8ZjWdk063eY",
        "colab": {
          "base_uri": "https://localhost:8080/"
        },
        "outputId": "70bf9749-cda4-491d-d31b-1ef1c03a855e"
      },
      "outputs": [
        {
          "output_type": "stream",
          "name": "stdout",
          "text": [
            "[9, 16, 25]\n"
          ]
        }
      ],
      "source": [
        "numbers = [1,2,3,4,5]\n",
        "square = [i**2 for i in numbers if i>=3]\n",
        "print(square)"
      ]
    },
    {
      "cell_type": "markdown",
      "source": [
        "### 데이터셋 불러오기 및 수식 적용 맛보기"
      ],
      "metadata": {
        "id": "mQ0hTynKQm69"
      }
    },
    {
      "cell_type": "code",
      "source": [
        "import pandas as pd           # (1) pandas 모듈 호출\n",
        "\n",
        "data_url = 'https://archive.ics.uci.edu/ml/machine-learning-databases/housing/housing.data'# (2) 데이터 URL을 변수 data_url에 넣기\n",
        "df_data = pd.read_csv(data_url, sep='\\s+',   #컬럼값\n",
        "\theader = None) # (3) csv 데이터 로드  #헤더는 컬럼명\n",
        "df_data.columns = ['CRIM','ZN', 'INDUS', 'CHAS', 'NOX', 'RM', 'AGE', 'DIS', 'RAD', 'TAX', 'PTRATIO' ,'B', 'LSTAT', 'MEDV'] # (4) 데이터의 열 이름 지정\n",
        "df_data.head()                 # (5) 데이터 출력 "
      ],
      "metadata": {
        "colab": {
          "base_uri": "https://localhost:8080/",
          "height": 206
        },
        "id": "NIIQABsVQgo4",
        "outputId": "8c2c4a31-a81c-41fb-8cde-69837aebb39f"
      },
      "execution_count": 2,
      "outputs": [
        {
          "output_type": "execute_result",
          "data": {
            "text/plain": [
              "      CRIM    ZN  INDUS  CHAS    NOX     RM   AGE     DIS  RAD    TAX  \\\n",
              "0  0.00632  18.0   2.31     0  0.538  6.575  65.2  4.0900    1  296.0   \n",
              "1  0.02731   0.0   7.07     0  0.469  6.421  78.9  4.9671    2  242.0   \n",
              "2  0.02729   0.0   7.07     0  0.469  7.185  61.1  4.9671    2  242.0   \n",
              "3  0.03237   0.0   2.18     0  0.458  6.998  45.8  6.0622    3  222.0   \n",
              "4  0.06905   0.0   2.18     0  0.458  7.147  54.2  6.0622    3  222.0   \n",
              "\n",
              "   PTRATIO       B  LSTAT  MEDV  \n",
              "0     15.3  396.90   4.98  24.0  \n",
              "1     17.8  396.90   9.14  21.6  \n",
              "2     17.8  392.83   4.03  34.7  \n",
              "3     18.7  394.63   2.94  33.4  \n",
              "4     18.7  396.90   5.33  36.2  "
            ],
            "text/html": [
              "\n",
              "  <div id=\"df-c82df43b-7c71-4c93-a9ff-fccae7b7d71b\">\n",
              "    <div class=\"colab-df-container\">\n",
              "      <div>\n",
              "<style scoped>\n",
              "    .dataframe tbody tr th:only-of-type {\n",
              "        vertical-align: middle;\n",
              "    }\n",
              "\n",
              "    .dataframe tbody tr th {\n",
              "        vertical-align: top;\n",
              "    }\n",
              "\n",
              "    .dataframe thead th {\n",
              "        text-align: right;\n",
              "    }\n",
              "</style>\n",
              "<table border=\"1\" class=\"dataframe\">\n",
              "  <thead>\n",
              "    <tr style=\"text-align: right;\">\n",
              "      <th></th>\n",
              "      <th>CRIM</th>\n",
              "      <th>ZN</th>\n",
              "      <th>INDUS</th>\n",
              "      <th>CHAS</th>\n",
              "      <th>NOX</th>\n",
              "      <th>RM</th>\n",
              "      <th>AGE</th>\n",
              "      <th>DIS</th>\n",
              "      <th>RAD</th>\n",
              "      <th>TAX</th>\n",
              "      <th>PTRATIO</th>\n",
              "      <th>B</th>\n",
              "      <th>LSTAT</th>\n",
              "      <th>MEDV</th>\n",
              "    </tr>\n",
              "  </thead>\n",
              "  <tbody>\n",
              "    <tr>\n",
              "      <th>0</th>\n",
              "      <td>0.00632</td>\n",
              "      <td>18.0</td>\n",
              "      <td>2.31</td>\n",
              "      <td>0</td>\n",
              "      <td>0.538</td>\n",
              "      <td>6.575</td>\n",
              "      <td>65.2</td>\n",
              "      <td>4.0900</td>\n",
              "      <td>1</td>\n",
              "      <td>296.0</td>\n",
              "      <td>15.3</td>\n",
              "      <td>396.90</td>\n",
              "      <td>4.98</td>\n",
              "      <td>24.0</td>\n",
              "    </tr>\n",
              "    <tr>\n",
              "      <th>1</th>\n",
              "      <td>0.02731</td>\n",
              "      <td>0.0</td>\n",
              "      <td>7.07</td>\n",
              "      <td>0</td>\n",
              "      <td>0.469</td>\n",
              "      <td>6.421</td>\n",
              "      <td>78.9</td>\n",
              "      <td>4.9671</td>\n",
              "      <td>2</td>\n",
              "      <td>242.0</td>\n",
              "      <td>17.8</td>\n",
              "      <td>396.90</td>\n",
              "      <td>9.14</td>\n",
              "      <td>21.6</td>\n",
              "    </tr>\n",
              "    <tr>\n",
              "      <th>2</th>\n",
              "      <td>0.02729</td>\n",
              "      <td>0.0</td>\n",
              "      <td>7.07</td>\n",
              "      <td>0</td>\n",
              "      <td>0.469</td>\n",
              "      <td>7.185</td>\n",
              "      <td>61.1</td>\n",
              "      <td>4.9671</td>\n",
              "      <td>2</td>\n",
              "      <td>242.0</td>\n",
              "      <td>17.8</td>\n",
              "      <td>392.83</td>\n",
              "      <td>4.03</td>\n",
              "      <td>34.7</td>\n",
              "    </tr>\n",
              "    <tr>\n",
              "      <th>3</th>\n",
              "      <td>0.03237</td>\n",
              "      <td>0.0</td>\n",
              "      <td>2.18</td>\n",
              "      <td>0</td>\n",
              "      <td>0.458</td>\n",
              "      <td>6.998</td>\n",
              "      <td>45.8</td>\n",
              "      <td>6.0622</td>\n",
              "      <td>3</td>\n",
              "      <td>222.0</td>\n",
              "      <td>18.7</td>\n",
              "      <td>394.63</td>\n",
              "      <td>2.94</td>\n",
              "      <td>33.4</td>\n",
              "    </tr>\n",
              "    <tr>\n",
              "      <th>4</th>\n",
              "      <td>0.06905</td>\n",
              "      <td>0.0</td>\n",
              "      <td>2.18</td>\n",
              "      <td>0</td>\n",
              "      <td>0.458</td>\n",
              "      <td>7.147</td>\n",
              "      <td>54.2</td>\n",
              "      <td>6.0622</td>\n",
              "      <td>3</td>\n",
              "      <td>222.0</td>\n",
              "      <td>18.7</td>\n",
              "      <td>396.90</td>\n",
              "      <td>5.33</td>\n",
              "      <td>36.2</td>\n",
              "    </tr>\n",
              "  </tbody>\n",
              "</table>\n",
              "</div>\n",
              "      <button class=\"colab-df-convert\" onclick=\"convertToInteractive('df-c82df43b-7c71-4c93-a9ff-fccae7b7d71b')\"\n",
              "              title=\"Convert this dataframe to an interactive table.\"\n",
              "              style=\"display:none;\">\n",
              "        \n",
              "  <svg xmlns=\"http://www.w3.org/2000/svg\" height=\"24px\"viewBox=\"0 0 24 24\"\n",
              "       width=\"24px\">\n",
              "    <path d=\"M0 0h24v24H0V0z\" fill=\"none\"/>\n",
              "    <path d=\"M18.56 5.44l.94 2.06.94-2.06 2.06-.94-2.06-.94-.94-2.06-.94 2.06-2.06.94zm-11 1L8.5 8.5l.94-2.06 2.06-.94-2.06-.94L8.5 2.5l-.94 2.06-2.06.94zm10 10l.94 2.06.94-2.06 2.06-.94-2.06-.94-.94-2.06-.94 2.06-2.06.94z\"/><path d=\"M17.41 7.96l-1.37-1.37c-.4-.4-.92-.59-1.43-.59-.52 0-1.04.2-1.43.59L10.3 9.45l-7.72 7.72c-.78.78-.78 2.05 0 2.83L4 21.41c.39.39.9.59 1.41.59.51 0 1.02-.2 1.41-.59l7.78-7.78 2.81-2.81c.8-.78.8-2.07 0-2.86zM5.41 20L4 18.59l7.72-7.72 1.47 1.35L5.41 20z\"/>\n",
              "  </svg>\n",
              "      </button>\n",
              "      \n",
              "  <style>\n",
              "    .colab-df-container {\n",
              "      display:flex;\n",
              "      flex-wrap:wrap;\n",
              "      gap: 12px;\n",
              "    }\n",
              "\n",
              "    .colab-df-convert {\n",
              "      background-color: #E8F0FE;\n",
              "      border: none;\n",
              "      border-radius: 50%;\n",
              "      cursor: pointer;\n",
              "      display: none;\n",
              "      fill: #1967D2;\n",
              "      height: 32px;\n",
              "      padding: 0 0 0 0;\n",
              "      width: 32px;\n",
              "    }\n",
              "\n",
              "    .colab-df-convert:hover {\n",
              "      background-color: #E2EBFA;\n",
              "      box-shadow: 0px 1px 2px rgba(60, 64, 67, 0.3), 0px 1px 3px 1px rgba(60, 64, 67, 0.15);\n",
              "      fill: #174EA6;\n",
              "    }\n",
              "\n",
              "    [theme=dark] .colab-df-convert {\n",
              "      background-color: #3B4455;\n",
              "      fill: #D2E3FC;\n",
              "    }\n",
              "\n",
              "    [theme=dark] .colab-df-convert:hover {\n",
              "      background-color: #434B5C;\n",
              "      box-shadow: 0px 1px 3px 1px rgba(0, 0, 0, 0.15);\n",
              "      filter: drop-shadow(0px 1px 2px rgba(0, 0, 0, 0.3));\n",
              "      fill: #FFFFFF;\n",
              "    }\n",
              "  </style>\n",
              "\n",
              "      <script>\n",
              "        const buttonEl =\n",
              "          document.querySelector('#df-c82df43b-7c71-4c93-a9ff-fccae7b7d71b button.colab-df-convert');\n",
              "        buttonEl.style.display =\n",
              "          google.colab.kernel.accessAllowed ? 'block' : 'none';\n",
              "\n",
              "        async function convertToInteractive(key) {\n",
              "          const element = document.querySelector('#df-c82df43b-7c71-4c93-a9ff-fccae7b7d71b');\n",
              "          const dataTable =\n",
              "            await google.colab.kernel.invokeFunction('convertToInteractive',\n",
              "                                                     [key], {});\n",
              "          if (!dataTable) return;\n",
              "\n",
              "          const docLinkHtml = 'Like what you see? Visit the ' +\n",
              "            '<a target=\"_blank\" href=https://colab.research.google.com/notebooks/data_table.ipynb>data table notebook</a>'\n",
              "            + ' to learn more about interactive tables.';\n",
              "          element.innerHTML = '';\n",
              "          dataTable['output_type'] = 'display_data';\n",
              "          await google.colab.output.renderOutput(dataTable, element);\n",
              "          const docLink = document.createElement('div');\n",
              "          docLink.innerHTML = docLinkHtml;\n",
              "          element.appendChild(docLink);\n",
              "        }\n",
              "      </script>\n",
              "    </div>\n",
              "  </div>\n",
              "  "
            ]
          },
          "metadata": {},
          "execution_count": 2
        }
      ]
    },
    {
      "cell_type": "code",
      "source": [
        "data_url = 'https://archive.ics.uci.edu/ml/machine-learning-databases/housing/housing.data'\n",
        "df_data = pd.read_csv(data_url, sep='\\s+', header = None) \n",
        "df_data.columns = ['CRIM','ZN', 'INDUS', 'CHAS', 'NOX', 'RM', 'AGE', 'DIS', 'RAD', 'TAX', 'PTRATIO' ,'B', 'LSTAT', 'MEDV'] \n",
        "df_data.head()               # 이전 코드와 동일한 코드                            (pandas 모듈은 위에서 호출 완료)\n",
        "import numpy as np           # (1) numpy 모듈 호출\n",
        "df_data['weight_0'] = 1      # (2) weight 0 값 추가 = 상수값\n",
        "df_data = df_data.drop(\"MEDV\", axis=1) # (3) Y 값 제거 종속값을 구하기 위해\n",
        "df_matrix = df_data.values                       # (4) 행렬(Matrix) 데이터로 변환하기\n",
        "weight_vector = np.random.random_sample((14, 1))                              # (5) 가중치 w 생성\n",
        "df_matrix.dot(weight_vector)[0:10] # (6) matrix셋에 데이터 내적 연산 실행 결과 출력  "
      ],
      "metadata": {
        "id": "dTPsM67-RNGo",
        "colab": {
          "base_uri": "https://localhost:8080/"
        },
        "outputId": "37c3c32a-d05a-4c98-827c-b5604fd28adf"
      },
      "execution_count": 3,
      "outputs": [
        {
          "output_type": "execute_result",
          "data": {
            "text/plain": [
              "array([[418.80234298],\n",
              "       [381.34357966],\n",
              "       [365.09369742],\n",
              "       [338.93262472],\n",
              "       [346.83779715],\n",
              "       [348.52501637],\n",
              "       [434.44097694],\n",
              "       [458.64880181],\n",
              "       [464.61498839],\n",
              "       [447.10788985]])"
            ]
          },
          "metadata": {},
          "execution_count": 3
        }
      ]
    },
    {
      "cell_type": "code",
      "source": [
        "# 판다스 데이터 프레임으로 변형해서 데이터 확인\n",
        "\n",
        "import pandas as pd\n",
        "\n",
        "data_df11 = pd.DataFrame(df_matrix)\n",
        "data_df11.head()"
      ],
      "metadata": {
        "colab": {
          "base_uri": "https://localhost:8080/",
          "height": 206
        },
        "id": "HFH3DPSxRTzF",
        "outputId": "ea5f7d73-1cb5-4bb7-9c79-1874b0ffe293"
      },
      "execution_count": null,
      "outputs": [
        {
          "output_type": "execute_result",
          "data": {
            "text/plain": [
              "        0     1     2    3      4      5     6       7    8      9     10  \\\n",
              "0  0.00632  18.0  2.31  0.0  0.538  6.575  65.2  4.0900  1.0  296.0  15.3   \n",
              "1  0.02731   0.0  7.07  0.0  0.469  6.421  78.9  4.9671  2.0  242.0  17.8   \n",
              "2  0.02729   0.0  7.07  0.0  0.469  7.185  61.1  4.9671  2.0  242.0  17.8   \n",
              "3  0.03237   0.0  2.18  0.0  0.458  6.998  45.8  6.0622  3.0  222.0  18.7   \n",
              "4  0.06905   0.0  2.18  0.0  0.458  7.147  54.2  6.0622  3.0  222.0  18.7   \n",
              "\n",
              "       11    12   13  \n",
              "0  396.90  4.98  1.0  \n",
              "1  396.90  9.14  1.0  \n",
              "2  392.83  4.03  1.0  \n",
              "3  394.63  2.94  1.0  \n",
              "4  396.90  5.33  1.0  "
            ],
            "text/html": [
              "\n",
              "  <div id=\"df-a20ac7da-69ec-43f4-b6d3-26297453a5d6\">\n",
              "    <div class=\"colab-df-container\">\n",
              "      <div>\n",
              "<style scoped>\n",
              "    .dataframe tbody tr th:only-of-type {\n",
              "        vertical-align: middle;\n",
              "    }\n",
              "\n",
              "    .dataframe tbody tr th {\n",
              "        vertical-align: top;\n",
              "    }\n",
              "\n",
              "    .dataframe thead th {\n",
              "        text-align: right;\n",
              "    }\n",
              "</style>\n",
              "<table border=\"1\" class=\"dataframe\">\n",
              "  <thead>\n",
              "    <tr style=\"text-align: right;\">\n",
              "      <th></th>\n",
              "      <th>0</th>\n",
              "      <th>1</th>\n",
              "      <th>2</th>\n",
              "      <th>3</th>\n",
              "      <th>4</th>\n",
              "      <th>5</th>\n",
              "      <th>6</th>\n",
              "      <th>7</th>\n",
              "      <th>8</th>\n",
              "      <th>9</th>\n",
              "      <th>10</th>\n",
              "      <th>11</th>\n",
              "      <th>12</th>\n",
              "      <th>13</th>\n",
              "    </tr>\n",
              "  </thead>\n",
              "  <tbody>\n",
              "    <tr>\n",
              "      <th>0</th>\n",
              "      <td>0.00632</td>\n",
              "      <td>18.0</td>\n",
              "      <td>2.31</td>\n",
              "      <td>0.0</td>\n",
              "      <td>0.538</td>\n",
              "      <td>6.575</td>\n",
              "      <td>65.2</td>\n",
              "      <td>4.0900</td>\n",
              "      <td>1.0</td>\n",
              "      <td>296.0</td>\n",
              "      <td>15.3</td>\n",
              "      <td>396.90</td>\n",
              "      <td>4.98</td>\n",
              "      <td>1.0</td>\n",
              "    </tr>\n",
              "    <tr>\n",
              "      <th>1</th>\n",
              "      <td>0.02731</td>\n",
              "      <td>0.0</td>\n",
              "      <td>7.07</td>\n",
              "      <td>0.0</td>\n",
              "      <td>0.469</td>\n",
              "      <td>6.421</td>\n",
              "      <td>78.9</td>\n",
              "      <td>4.9671</td>\n",
              "      <td>2.0</td>\n",
              "      <td>242.0</td>\n",
              "      <td>17.8</td>\n",
              "      <td>396.90</td>\n",
              "      <td>9.14</td>\n",
              "      <td>1.0</td>\n",
              "    </tr>\n",
              "    <tr>\n",
              "      <th>2</th>\n",
              "      <td>0.02729</td>\n",
              "      <td>0.0</td>\n",
              "      <td>7.07</td>\n",
              "      <td>0.0</td>\n",
              "      <td>0.469</td>\n",
              "      <td>7.185</td>\n",
              "      <td>61.1</td>\n",
              "      <td>4.9671</td>\n",
              "      <td>2.0</td>\n",
              "      <td>242.0</td>\n",
              "      <td>17.8</td>\n",
              "      <td>392.83</td>\n",
              "      <td>4.03</td>\n",
              "      <td>1.0</td>\n",
              "    </tr>\n",
              "    <tr>\n",
              "      <th>3</th>\n",
              "      <td>0.03237</td>\n",
              "      <td>0.0</td>\n",
              "      <td>2.18</td>\n",
              "      <td>0.0</td>\n",
              "      <td>0.458</td>\n",
              "      <td>6.998</td>\n",
              "      <td>45.8</td>\n",
              "      <td>6.0622</td>\n",
              "      <td>3.0</td>\n",
              "      <td>222.0</td>\n",
              "      <td>18.7</td>\n",
              "      <td>394.63</td>\n",
              "      <td>2.94</td>\n",
              "      <td>1.0</td>\n",
              "    </tr>\n",
              "    <tr>\n",
              "      <th>4</th>\n",
              "      <td>0.06905</td>\n",
              "      <td>0.0</td>\n",
              "      <td>2.18</td>\n",
              "      <td>0.0</td>\n",
              "      <td>0.458</td>\n",
              "      <td>7.147</td>\n",
              "      <td>54.2</td>\n",
              "      <td>6.0622</td>\n",
              "      <td>3.0</td>\n",
              "      <td>222.0</td>\n",
              "      <td>18.7</td>\n",
              "      <td>396.90</td>\n",
              "      <td>5.33</td>\n",
              "      <td>1.0</td>\n",
              "    </tr>\n",
              "  </tbody>\n",
              "</table>\n",
              "</div>\n",
              "      <button class=\"colab-df-convert\" onclick=\"convertToInteractive('df-a20ac7da-69ec-43f4-b6d3-26297453a5d6')\"\n",
              "              title=\"Convert this dataframe to an interactive table.\"\n",
              "              style=\"display:none;\">\n",
              "        \n",
              "  <svg xmlns=\"http://www.w3.org/2000/svg\" height=\"24px\"viewBox=\"0 0 24 24\"\n",
              "       width=\"24px\">\n",
              "    <path d=\"M0 0h24v24H0V0z\" fill=\"none\"/>\n",
              "    <path d=\"M18.56 5.44l.94 2.06.94-2.06 2.06-.94-2.06-.94-.94-2.06-.94 2.06-2.06.94zm-11 1L8.5 8.5l.94-2.06 2.06-.94-2.06-.94L8.5 2.5l-.94 2.06-2.06.94zm10 10l.94 2.06.94-2.06 2.06-.94-2.06-.94-.94-2.06-.94 2.06-2.06.94z\"/><path d=\"M17.41 7.96l-1.37-1.37c-.4-.4-.92-.59-1.43-.59-.52 0-1.04.2-1.43.59L10.3 9.45l-7.72 7.72c-.78.78-.78 2.05 0 2.83L4 21.41c.39.39.9.59 1.41.59.51 0 1.02-.2 1.41-.59l7.78-7.78 2.81-2.81c.8-.78.8-2.07 0-2.86zM5.41 20L4 18.59l7.72-7.72 1.47 1.35L5.41 20z\"/>\n",
              "  </svg>\n",
              "      </button>\n",
              "      \n",
              "  <style>\n",
              "    .colab-df-container {\n",
              "      display:flex;\n",
              "      flex-wrap:wrap;\n",
              "      gap: 12px;\n",
              "    }\n",
              "\n",
              "    .colab-df-convert {\n",
              "      background-color: #E8F0FE;\n",
              "      border: none;\n",
              "      border-radius: 50%;\n",
              "      cursor: pointer;\n",
              "      display: none;\n",
              "      fill: #1967D2;\n",
              "      height: 32px;\n",
              "      padding: 0 0 0 0;\n",
              "      width: 32px;\n",
              "    }\n",
              "\n",
              "    .colab-df-convert:hover {\n",
              "      background-color: #E2EBFA;\n",
              "      box-shadow: 0px 1px 2px rgba(60, 64, 67, 0.3), 0px 1px 3px 1px rgba(60, 64, 67, 0.15);\n",
              "      fill: #174EA6;\n",
              "    }\n",
              "\n",
              "    [theme=dark] .colab-df-convert {\n",
              "      background-color: #3B4455;\n",
              "      fill: #D2E3FC;\n",
              "    }\n",
              "\n",
              "    [theme=dark] .colab-df-convert:hover {\n",
              "      background-color: #434B5C;\n",
              "      box-shadow: 0px 1px 3px 1px rgba(0, 0, 0, 0.15);\n",
              "      filter: drop-shadow(0px 1px 2px rgba(0, 0, 0, 0.3));\n",
              "      fill: #FFFFFF;\n",
              "    }\n",
              "  </style>\n",
              "\n",
              "      <script>\n",
              "        const buttonEl =\n",
              "          document.querySelector('#df-a20ac7da-69ec-43f4-b6d3-26297453a5d6 button.colab-df-convert');\n",
              "        buttonEl.style.display =\n",
              "          google.colab.kernel.accessAllowed ? 'block' : 'none';\n",
              "\n",
              "        async function convertToInteractive(key) {\n",
              "          const element = document.querySelector('#df-a20ac7da-69ec-43f4-b6d3-26297453a5d6');\n",
              "          const dataTable =\n",
              "            await google.colab.kernel.invokeFunction('convertToInteractive',\n",
              "                                                     [key], {});\n",
              "          if (!dataTable) return;\n",
              "\n",
              "          const docLinkHtml = 'Like what you see? Visit the ' +\n",
              "            '<a target=\"_blank\" href=https://colab.research.google.com/notebooks/data_table.ipynb>data table notebook</a>'\n",
              "            + ' to learn more about interactive tables.';\n",
              "          element.innerHTML = '';\n",
              "          dataTable['output_type'] = 'display_data';\n",
              "          await google.colab.output.renderOutput(dataTable, element);\n",
              "          const docLink = document.createElement('div');\n",
              "          docLink.innerHTML = docLinkHtml;\n",
              "          element.appendChild(docLink);\n",
              "        }\n",
              "      </script>\n",
              "    </div>\n",
              "  </div>\n",
              "  "
            ]
          },
          "metadata": {},
          "execution_count": 39
        }
      ]
    },
    {
      "cell_type": "code",
      "source": [
        "# 난수로 생성했던 가중치값 확인\n",
        "\n",
        "weight_vector"
      ],
      "metadata": {
        "colab": {
          "base_uri": "https://localhost:8080/"
        },
        "id": "62hxqdgcRdNg",
        "outputId": "49b840d0-4b09-4423-f2c4-a5d7ca86aa38"
      },
      "execution_count": null,
      "outputs": [
        {
          "output_type": "execute_result",
          "data": {
            "text/plain": [
              "array([[0.81884018],\n",
              "       [0.78808419],\n",
              "       [0.151472  ],\n",
              "       [0.30762848],\n",
              "       [0.3469392 ],\n",
              "       [0.16144396],\n",
              "       [0.54239407],\n",
              "       [0.54378217],\n",
              "       [0.75245501],\n",
              "       [0.4128495 ],\n",
              "       [0.60188162],\n",
              "       [0.21929417],\n",
              "       [0.51493142],\n",
              "       [0.81573349]])"
            ]
          },
          "metadata": {},
          "execution_count": 40
        }
      ]
    },
    {
      "cell_type": "code",
      "source": [],
      "metadata": {
        "id": "eKzaQrURRjBH"
      },
      "execution_count": null,
      "outputs": []
    }
  ],
  "metadata": {
    "anaconda-cloud": {},
    "kernelspec": {
      "display_name": "Python 3",
      "language": "python",
      "name": "python3"
    },
    "language_info": {
      "codemirror_mode": {
        "name": "ipython",
        "version": 3
      },
      "file_extension": ".py",
      "mimetype": "text/x-python",
      "name": "python",
      "nbconvert_exporter": "python",
      "pygments_lexer": "ipython3",
      "version": "3.6.4"
    },
    "latex_envs": {
      "bibliofile": "biblio.bib",
      "cite_by": "apalike",
      "current_citInitial": 1,
      "eqLabelWithNumbers": true,
      "eqNumInitial": 0
    },
    "nav_menu": {},
    "toc": {
      "nav_menu": {
        "height": "159px",
        "width": "252px"
      },
      "number_sections": false,
      "sideBar": true,
      "skip_h1_title": false,
      "toc_cell": false,
      "toc_position": {
        "height": "582px",
        "left": "0px",
        "right": "1052px",
        "top": "111px",
        "width": "314px"
      },
      "toc_section_display": "block",
      "toc_window_display": false
    },
    "toc_position": {
      "left": "1045px",
      "right": "20px",
      "top": "119px",
      "width": "300px"
    },
    "colab": {
      "provenance": [],
      "collapsed_sections": [
        "6zZKhxFz63eC",
        "AdrGcRdB63eT"
      ],
      "include_colab_link": true
    }
  },
  "nbformat": 4,
  "nbformat_minor": 0
}